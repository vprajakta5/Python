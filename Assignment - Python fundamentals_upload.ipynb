{
 "cells": [
  {
   "cell_type": "markdown",
   "metadata": {},
   "source": [
    "## <span style = 'color:green'>Assignment on python fundamentals</span>\n"
   ]
  },
  {
   "cell_type": "markdown",
   "metadata": {},
   "source": [
    "1. **By using 'print' function print the provided string in specified format**\n",
    "**your executiion should be this**: \n",
    "\n",
    "Hello World           \n",
    "  Welcome to 'Python' Programming"
   ]
  },
  {
   "cell_type": "code",
   "execution_count": 1,
   "metadata": {},
   "outputs": [
    {
     "name": "stdout",
     "output_type": "stream",
     "text": [
      "Hello World\n",
      "Welcome to \"Python\" Programming\n"
     ]
    }
   ],
   "source": [
    "#start your code here\n",
    "\n",
    "print('Hello World\\nWelcome to \"Python\" Programming')"
   ]
  },
  {
   "cell_type": "markdown",
   "metadata": {},
   "source": [
    "2. **Check the python version which you are using**"
   ]
  },
  {
   "cell_type": "code",
   "execution_count": 2,
   "metadata": {},
   "outputs": [
    {
     "name": "stdout",
     "output_type": "stream",
     "text": [
      "Python Verion: 3.11.5 | packaged by Anaconda, Inc. | (main, Sep 11 2023, 13:26:23) [MSC v.1916 64 bit (AMD64)]\n"
     ]
    }
   ],
   "source": [
    "#start your code here\n",
    "\n",
    "import sys\n",
    "print('Python Verion:',sys.version)"
   ]
  },
  {
   "cell_type": "markdown",
   "metadata": {},
   "source": [
    "3. **Design a Python program which can calculate the area by taking readius as input by user input method**\n",
    "<table>\n",
    "  <tr>\n",
    "  <td><td>\n",
    "   <br> instead of giving direct values try using \"float(input())\" </td>\n",
    "  </tr>\n",
    "</table>"
   ]
  },
  {
   "cell_type": "code",
   "execution_count": null,
   "metadata": {},
   "outputs": [],
   "source": [
    "#start your code here\n",
    "\n",
    "pi = 3.14\n",
    "radius = float(input('Enter the radius of circle:'))\n",
    "area = pi * radius **2\n",
    "print('Area of Circle = ', area)"
   ]
  },
  {
   "cell_type": "markdown",
   "metadata": {},
   "source": [
    "4. **Write a python program which can take your first and last name seperately and execute as** \n",
    "<table>\n",
    "  <tr>\n",
    "  <td><td>\n",
    "   <br>**Sample execution** : Hello 'first name' 'last name', hope you are doing good</td>\n",
    "  </tr>\n",
    "</table>\n"
   ]
  },
  {
   "cell_type": "code",
   "execution_count": null,
   "metadata": {},
   "outputs": [],
   "source": [
    "first_name = input('Enter your first name: ')\n",
    "last_name = input('Enter your last name: ')\n",
    "\n",
    "print('Hello' + first_name + ' ' + 'last_name' + ',' + ' ' + 'hope you are doing good')"
   ]
  },
  {
   "cell_type": "markdown",
   "metadata": {},
   "source": [
    "5. **Write a python program which can convert kilograms to grams**\n"
   ]
  },
  {
   "cell_type": "code",
   "execution_count": null,
   "metadata": {},
   "outputs": [],
   "source": [
    "#start your code here\n",
    "\n",
    "weight_in_kg = float(input('Enter weight in kilograms: '))\n",
    "\n",
    "result = weight_in_kg * 1000\n",
    "\n",
    "print(str(weight_in_kg)+ ' kilograms = '+str(result)+' grams')"
   ]
  },
  {
   "cell_type": "markdown",
   "metadata": {},
   "source": [
    "6. **Create a list and store the given elements in the list**\n",
    "  <table>\n",
    "  <tr>\n",
    "  <td><td>\n",
    "   <br>Elements : 'Bengaluru','New York', 1971, '1682', (1,2,3,4,5,'Is this tuple?'),\"'Hello,welcome to Python Programming'\"</td>\n",
    "  </tr>\n",
    "</table>\n",
    "- Try to extract entire tuple by using positive indexing\n",
    "- Can we add elements into tuple after creating it?\n",
    "- Remove '1682' and 'New York' from the list\n",
    "- Discuss one practical application of tuple and lists\n",
    "- Access 'Bengaluru' by Negitive indexing\n",
    "- add 'Mumbai' into the list\n",
    "- Try to perform one operation on each removal operation on lists \n",
    "1. del\n",
    "2. remove\n",
    "3. pop\n",
    "- Try to perform one operation on each operational\n",
    "1. append\n",
    "2. entend\n",
    "3. insert"
   ]
  },
  {
   "cell_type": "code",
   "execution_count": 1,
   "metadata": {},
   "outputs": [
    {
     "name": "stdout",
     "output_type": "stream",
     "text": [
      "['Bengaluru', 'New York', 1971, '1682', (1, 2, 3, 4, 5, 'Is this tuple?'), \"'Hello, Welcome to Python Programming'\"]\n"
     ]
    }
   ],
   "source": [
    "#start your code here\n",
    "\n",
    "my_list = ['Bengaluru', 'New York', 1971, '1682', (1,2,3,4,5,'Is this tuple?'), \n",
    "           \"'Hello, Welcome to Python Programming'\"]\n",
    "print(my_list)"
   ]
  },
  {
   "cell_type": "code",
   "execution_count": 2,
   "metadata": {},
   "outputs": [
    {
     "name": "stdout",
     "output_type": "stream",
     "text": [
      "(1, 2, 3, 4, 5, 'Is this tuple?')\n"
     ]
    }
   ],
   "source": [
    "#Try to extract entire tuple by using positive indexing\n",
    "my_tuple = my_list[4]\n",
    "print (my_tuple)"
   ]
  },
  {
   "cell_type": "code",
   "execution_count": null,
   "metadata": {},
   "outputs": [],
   "source": [
    "#Can we add elements into tuple after creating it?\n",
    "\n",
    "Ans: No. Tuples are immutable. Hnece, we can not add or delete any element from tuple. \n",
    "    However, we can create a new tuple to modify an existing tuple"
   ]
  },
  {
   "cell_type": "code",
   "execution_count": 3,
   "metadata": {},
   "outputs": [
    {
     "name": "stdout",
     "output_type": "stream",
     "text": [
      "['Bengaluru', 1971, (1, 2, 3, 4, 5, 'Is this tuple?'), \"'Hello, Welcome to Python Programming'\"]\n"
     ]
    }
   ],
   "source": [
    "#Remove '1682' and 'New York' from the list\n",
    "\n",
    "my_list.remove('1682')\n",
    "my_list.remove('New York')\n",
    "print(my_list)"
   ]
  },
  {
   "cell_type": "code",
   "execution_count": null,
   "metadata": {},
   "outputs": [],
   "source": [
    "#Discuss one practical application of tuple and lists\n",
    "\n",
    "1. Lists: useful when dealing with collections of items where the size can change. \n",
    "           eg. to store customer details like name, phone number, email id, address, nationality, orders placed\n",
    "        \n",
    "2. Tuple: used to represent fixed collections of items\n",
    "          eg. to represent points in space, coordinates, or dimensions"
   ]
  },
  {
   "cell_type": "code",
   "execution_count": 4,
   "metadata": {},
   "outputs": [
    {
     "name": "stdout",
     "output_type": "stream",
     "text": [
      "Bengaluru\n"
     ]
    }
   ],
   "source": [
    "#Access 'Bengaluru' by Negative indexing\n",
    "\n",
    "city = my_list[-4]\n",
    "print(city)\n"
   ]
  },
  {
   "cell_type": "code",
   "execution_count": 6,
   "metadata": {},
   "outputs": [
    {
     "name": "stdout",
     "output_type": "stream",
     "text": [
      "['Bengaluru', 1971, (1, 2, 3, 4, 5, 'Is this tuple?'), \"'Hello, Welcome to Python Programming'\", 'Mumbai']\n"
     ]
    }
   ],
   "source": [
    "#add 'Mumbai' into the list\n",
    "my_list.append('Mumbai')\n",
    "print(my_list)"
   ]
  },
  {
   "cell_type": "code",
   "execution_count": 8,
   "metadata": {},
   "outputs": [
    {
     "name": "stdout",
     "output_type": "stream",
     "text": [
      "['Bengaluru', \"'Hello, Welcome to Python Programming'\", 'Mumbai']\n"
     ]
    }
   ],
   "source": [
    "#Try to perform one operation on each removal operation on lists\n",
    "#del\n",
    "del my_list[1]\n",
    "print(my_list)\n"
   ]
  },
  {
   "cell_type": "code",
   "execution_count": 11,
   "metadata": {
    "scrolled": true
   },
   "outputs": [
    {
     "name": "stdout",
     "output_type": "stream",
     "text": [
      "[\"'Hello, Welcome to Python Programming'\", 'Mumbai']\n"
     ]
    }
   ],
   "source": [
    "#remove\n",
    "my_list.remove('Bengaluru')\n",
    "print(my_list)"
   ]
  },
  {
   "cell_type": "code",
   "execution_count": 13,
   "metadata": {},
   "outputs": [
    {
     "name": "stdout",
     "output_type": "stream",
     "text": [
      "[\"'Hello, Welcome to Python Programming'\"]\n",
      "Removed Element: Mumbai\n"
     ]
    }
   ],
   "source": [
    "#pop\n",
    "removed_element = my_list.pop(1)\n",
    "print (my_list)\n",
    "print('Removed Element:', removed_element)"
   ]
  },
  {
   "cell_type": "code",
   "execution_count": 23,
   "metadata": {
    "scrolled": true
   },
   "outputs": [
    {
     "name": "stdout",
     "output_type": "stream",
     "text": [
      "[\"'Hello, Welcome to Python Programming'\", 'Delhi']\n"
     ]
    }
   ],
   "source": [
    "#Try to perform one operation on each operational\n",
    "#append\n",
    "\n",
    "my_list.append('Delhi')\n",
    "print(my_list)"
   ]
  },
  {
   "cell_type": "code",
   "execution_count": 24,
   "metadata": {},
   "outputs": [
    {
     "name": "stdout",
     "output_type": "stream",
     "text": [
      "[\"'Hello, Welcome to Python Programming'\", 'Delhi', 'Banglore', 'Kolkata']\n"
     ]
    }
   ],
   "source": [
    "#extend\n",
    "new_list =['Banglore', 'Kolkata']\n",
    "my_list.extend(new_list)\n",
    "print(my_list)"
   ]
  },
  {
   "cell_type": "code",
   "execution_count": 25,
   "metadata": {},
   "outputs": [
    {
     "name": "stdout",
     "output_type": "stream",
     "text": [
      "[\"'Hello, Welcome to Python Programming'\", 'Delhi', 'Mumbai', 'Banglore', 'Kolkata']\n"
     ]
    }
   ],
   "source": [
    "#insert\n",
    "my_list.insert(2, 'Mumbai')\n",
    "print(my_list)"
   ]
  },
  {
   "cell_type": "markdown",
   "metadata": {},
   "source": [
    "7. **Write a python program which can calculate the electricity bill by considering the no of units consumed and other parameters are mentioned below**\n",
    "- If units consumed is less than 50 then bill amount should be 100INR\n",
    "- If units consumed between 50 - 300 then each unit will be charged at 4.5 INR\n",
    "-  If units consumed more than 300 then that billed individual have to pay base pay as 1000INR and 300 units will be reduced from his total consumed units and for remaining units 7 INR will be charged for each unit.\n",
    "- Execution should be "
   ]
  },
  {
   "cell_type": "code",
   "execution_count": null,
   "metadata": {},
   "outputs": [],
   "source": [
    "#start your code here\n",
    "def calculate_electricity_bill(no_of_units_consumed):\n",
    "    if no_of_units_consumed < 50:\n",
    "        bill_amount = 100\n",
    "    elif 50 <=no_of_units_consumed<=300:\n",
    "        bill_amount = no_of_units_consumed*4.5\n",
    "    else: \n",
    "            base_pay = 1000\n",
    "            remaining_units = no_of_units_consumed - 300\n",
    "            bill_amount = base_pay+ remaining_units*7\n",
    "            \n",
    "    return bill_amount\n",
    "    \n",
    "no_of_units_consumed =  float(input('enter the no of units consumed:'))\n",
    "\n",
    "bill_amount = calculate_electricity_bill(no_of_units_consumed)\n",
    "\n",
    "print(f\"Eectricity bill amount is: Rs.{bill_amount}/- \")\n"
   ]
  },
  {
   "cell_type": "markdown",
   "metadata": {},
   "source": [
    "8. **Write a program to calculate the tax of the vehicle based on the price**\n",
    "- below are the parameters to consider\n",
    "\n",
    "\n",
    "    Cost price (in Rs)                                            Tax\n",
    "        > 150000                                                  15 %\n",
    "        > 50000 and <= 100000                                     10%"
   ]
  },
  {
   "cell_type": "code",
   "execution_count": null,
   "metadata": {},
   "outputs": [],
   "source": [
    "#start your code here\n",
    "def calculate_tax(cost_price):\n",
    "    if cost_price > 150000:\n",
    "        tax_rate = 0.15\n",
    "    elif 50000 < cost_price <=100000:\n",
    "        tax_rate = 0.10\n",
    "    else:\n",
    "        tax_rate = 0\n",
    "        \n",
    "    tax_amount = cost_price * tax_rate\n",
    "        \n",
    "    return tax_amount\n",
    "\n",
    "cost_price = float(input('enter the cost price:'))\n",
    "tax_amount = calculate_tax(cost_price)\n",
    "\n",
    "print(f\"Total tax amount is: Rs.{tax_amount}/-\")\n",
    "    \n",
    "    "
   ]
  },
  {
   "cell_type": "markdown",
   "metadata": {},
   "source": [
    "9. **Write a program to check if the input is positive or negitive**\n"
   ]
  },
  {
   "cell_type": "code",
   "execution_count": null,
   "metadata": {},
   "outputs": [],
   "source": [
    "#start your code here\n",
    "number = float(input('enter a number: '))\n",
    "\n",
    "if number > 0:\n",
    "    print(\"The number is positive\")\n",
    "elif number < 0:\n",
    "    print(\"The number is negative\")\n",
    "else:\n",
    "    print(\"The number is zero\")\n",
    "\n"
   ]
  },
  {
   "cell_type": "markdown",
   "metadata": {},
   "source": [
    "10. **Define a function which can multiply the string with n number of times**\n",
    "- string = \"python programming\""
   ]
  },
  {
   "cell_type": "code",
   "execution_count": 1,
   "metadata": {},
   "outputs": [
    {
     "name": "stdout",
     "output_type": "stream",
     "text": [
      "Original String: python programming\n",
      "Multiplied String: python programmingpython programmingpython programming\n"
     ]
    }
   ],
   "source": [
    "#start your code here\n",
    "def multiply_string(input_string, n):\n",
    "    multiplied_string = input_string * n\n",
    "    return multiplied_string\n",
    "\n",
    "original_string = \"python programming\"\n",
    "multiplied_result = multiply_string(original_string, 3)\n",
    "\n",
    "print(\"Original String:\", original_string)\n",
    "print(\"Multiplied String:\", multiplied_result)"
   ]
  },
  {
   "cell_type": "markdown",
   "metadata": {},
   "source": [
    "11. **Define a function whicg can sum up two numbers** \n"
   ]
  },
  {
   "cell_type": "code",
   "execution_count": null,
   "metadata": {},
   "outputs": [],
   "source": [
    "#start your code here\n",
    "\n",
    "def sum_two_numbers(a, b):\n",
    "    result = a + b\n",
    "    return result\n",
    "\n",
    "a = float(input(\"Enter the first number: \"))\n",
    "b = float(input(\"Enter the second number: \"))\n",
    "\n",
    "result = sum_two_numbers(a, b)\n",
    "\n",
    "print(f\"The sum of {a} and {b} is: {result}\")"
   ]
  },
  {
   "cell_type": "markdown",
   "metadata": {},
   "source": [
    "12. **Define a function which can identify if a user has entered specifit string or not**\n",
    "- specified string = \"India\""
   ]
  },
  {
   "cell_type": "code",
   "execution_count": null,
   "metadata": {},
   "outputs": [],
   "source": [
    "#start your code here\n",
    "def check_specified_string(user_input, specified_string):\n",
    "    return user_input == specified_string\n",
    "\n",
    "specified_string = \"India\"\n",
    "\n",
    "user_input = input(\"Enter a string: \")\n",
    "\n",
    "if check_specified_string(user_input, specified_string):\n",
    "    print(\"You entered the specified string.\")\n",
    "else:\n",
    "    print(\"You did not enter the specified string.\")"
   ]
  },
  {
   "cell_type": "markdown",
   "metadata": {},
   "source": [
    "13. **define a function which will greet by taking user name as input**\n",
    "- input = name\n",
    "- hello 'name', hope you are doing good"
   ]
  },
  {
   "cell_type": "code",
   "execution_count": null,
   "metadata": {},
   "outputs": [],
   "source": [
    "#start your code here\n",
    "def greet_user(name):\n",
    "    greeting = \"hello \" + name + \", hope you are doing good\"\n",
    "    return greeting\n",
    "\n",
    "name = input(\"Enter your name: \")\n",
    "greeting= greet_user(name)\n",
    "\n",
    "print(greeting)"
   ]
  },
  {
   "cell_type": "markdown",
   "metadata": {},
   "source": [
    "14. **Define a function which can give us the entire prime numbers till the input**\n"
   ]
  },
  {
   "cell_type": "code",
   "execution_count": null,
   "metadata": {},
   "outputs": [],
   "source": [
    "#start your code here\n",
    "\n",
    "def generate_primes_up_to(limit):\n",
    "    primes = []\n",
    "    for num in range(2, limit + 1):\n",
    "        if all(num % i != 0 for i in range(2, num)):\n",
    "            primes.append(num)\n",
    "    return primes\n",
    "\n",
    "# Example usage\n",
    "limit = int(input(\"Enter a number to get all prime numbers up to it: \"))\n",
    "result = generate_primes_up_to(limit)\n",
    "\n",
    "print(f\"Prime numbers up to {limit}: {result}\")"
   ]
  },
  {
   "cell_type": "markdown",
   "metadata": {},
   "source": [
    "15. **Q.1 Check if a given string is palindrome.**\n",
    "    <br> A string is palindrome if the reverse of the string is same as itself.\n",
    "    <br> For eg. madam\n",
    "    <br> Print \"`<string>` is palindrome\" if it is palindrome \n",
    "    <br> else \"`<string>` is not a palindrome\" if it is not a palindrome.\n",
    "    <br> Hint : Use slicing to get reverse of the string."
   ]
  },
  {
   "cell_type": "code",
   "execution_count": null,
   "metadata": {},
   "outputs": [],
   "source": [
    "#start your code here\n",
    "\n",
    "\n",
    "def palindrome(input_string):\n",
    "    reversed_string = input_string[::-1]\n",
    "    if input_string == reversed_string:\n",
    "        print(f\"{input_string} is a palindrome.\")\n",
    "    else:\n",
    "        print(f\"{input_string} is not a palindrome.\")\n",
    "\n",
    "\n",
    "input_string = input(\"Enter a string: \")\n",
    "palindrome(input_string)"
   ]
  },
  {
   "cell_type": "markdown",
   "metadata": {},
   "source": [
    "16. **Write a python program to find n is a leap year** \n",
    "<br> Print \"n is a leap year\" if the given year is leap year.\n",
    "<br> Print \"n is not a leap year\" if the given year is not leap year.\n",
    "<br> Replace n with given year.\n",
    "<br> Hint : Use nested if-else "
   ]
  },
  {
   "cell_type": "code",
   "execution_count": 2,
   "metadata": {},
   "outputs": [
    {
     "name": "stdout",
     "output_type": "stream",
     "text": [
      "Enter a year: 900\n",
      "900 is not a leap year\n"
     ]
    }
   ],
   "source": [
    "#start your codes here\n",
    "year = int(input(\"Enter a year: \"))\n",
    "\n",
    "if year % 4 == 0:\n",
    "    if year % 100 == 0 and year % 400 != 0:\n",
    "        print(f\"{year} is not a leap year\")\n",
    "    else:\n",
    "        print(f\"{year} is a leap year\")\n",
    "else:\n",
    "    print(f\"{year} is not a leap year\")"
   ]
  },
  {
   "cell_type": "markdown",
   "metadata": {},
   "source": [
    "17. **Write a python program to check if n is leap year**"
   ]
  },
  {
   "cell_type": "code",
   "execution_count": 3,
   "metadata": {},
   "outputs": [
    {
     "name": "stdout",
     "output_type": "stream",
     "text": [
      "Enter a year: 900\n",
      "900 is not a leap year\n"
     ]
    }
   ],
   "source": [
    "#start your codes here\n",
    "year = int(input(\"Enter a year: \"))\n",
    "\n",
    "\n",
    "if (year % 4 == 0 and year % 100 != 0) or (year % 400 == 0):\n",
    "    print(f\"{year} is a leap year\")\n",
    "else:\n",
    "    print(f\"{year} is not a leap year\")\n"
   ]
  },
  {
   "cell_type": "markdown",
   "metadata": {},
   "source": [
    "18.  **Find the largest among three numbers**\n",
    "\n",
    "eg. Consider a,b,c as the three numbers, find which is the  largest number among them"
   ]
  },
  {
   "cell_type": "code",
   "execution_count": null,
   "metadata": {},
   "outputs": [],
   "source": [
    "#start your code here\n",
    "\n",
    "a = float(input(\"Enter a: \"))\n",
    "b = float(input(\"Enter b: \"))\n",
    "c = float(input(\"Enter c: \"))\n",
    "\n",
    "# Find the largest number\n",
    "if a >= b and a >= b:\n",
    "    largest = a\n",
    "elif b >= a and b >= c:\n",
    "    largest = b\n",
    "else:\n",
    "    largest = c\n",
    "\n",
    "print(f\"The largest number among {a}, {b}, and {c} is: {largest}\")"
   ]
  },
  {
   "cell_type": "markdown",
   "metadata": {},
   "source": [
    "19. **write a python program to print even numbers from 1 to 15 by using range function**\n"
   ]
  },
  {
   "cell_type": "code",
   "execution_count": 2,
   "metadata": {},
   "outputs": [
    {
     "name": "stdout",
     "output_type": "stream",
     "text": [
      "2\n",
      "4\n",
      "6\n",
      "8\n",
      "10\n",
      "12\n",
      "14\n"
     ]
    }
   ],
   "source": [
    "#start your code here\n",
    "for num in range(1, 15):\n",
    "    if num % 2 == 0:\n",
    "        print(num)\n"
   ]
  },
  {
   "cell_type": "markdown",
   "metadata": {},
   "source": [
    "20. **Write a program to guess the integer which is selected by computerby using  randint**\n",
    "- use random and radint \n",
    "- range should be 1 to 10\n",
    "- if user's number is greater than 10 then program should say your guess is too high\n",
    "- if user input is matches with the computer choice then your program should say \"yey! correct guess\"\n",
    "- otherwise your program should say too low"
   ]
  },
  {
   "cell_type": "code",
   "execution_count": null,
   "metadata": {},
   "outputs": [],
   "source": [
    "#start your code here\n",
    "\n",
    "import random\n",
    "\n",
    "computer_choice = random.randint(1, 10)\n",
    "\n",
    "user_input = int(input(\"Guess a number between 1 and 10: \"))\n",
    "\n",
    "if user_input > 10:\n",
    "    print(\"Your guess is too high.\")\n",
    "elif user_input == computer_choice:\n",
    "    print(\"Yey! Correct guess\")\n",
    "else:\n",
    "    print(\"Too low!\")"
   ]
  },
  {
   "cell_type": "code",
   "execution_count": null,
   "metadata": {},
   "outputs": [],
   "source": []
  }
 ],
 "metadata": {
  "kernelspec": {
   "display_name": "Python 3 (ipykernel)",
   "language": "python",
   "name": "python3"
  },
  "language_info": {
   "codemirror_mode": {
    "name": "ipython",
    "version": 3
   },
   "file_extension": ".py",
   "mimetype": "text/x-python",
   "name": "python",
   "nbconvert_exporter": "python",
   "pygments_lexer": "ipython3",
   "version": "3.11.5"
  }
 },
 "nbformat": 4,
 "nbformat_minor": 4
}
