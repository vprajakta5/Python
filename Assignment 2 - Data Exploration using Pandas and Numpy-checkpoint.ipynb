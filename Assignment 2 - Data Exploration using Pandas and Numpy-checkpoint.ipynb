{
 "cells": [
  {
   "cell_type": "markdown",
   "id": "0475089e",
   "metadata": {},
   "source": [
    "# Exploratory Data Analysis using Pandas and Numpy\n"
   ]
  },
  {
   "cell_type": "markdown",
   "id": "46cc695e",
   "metadata": {},
   "source": [
    "1. Load the dataset into a Pandas DataFrame"
   ]
  },
  {
   "cell_type": "code",
   "execution_count": 2,
   "id": "8c4b7783",
   "metadata": {},
   "outputs": [
    {
     "data": {
      "text/plain": [
       "(1000, 5)"
      ]
     },
     "execution_count": 2,
     "metadata": {},
     "output_type": "execute_result"
    }
   ],
   "source": [
    "import pandas as pd\n",
    "df = pd.read_csv(r\"D:\\0.2 PORTFOLIO\\Python\\sales data.csv\")\n",
    "df.shape"
   ]
  },
  {
   "cell_type": "markdown",
   "id": "726cc9b4",
   "metadata": {},
   "source": [
    "2. Print the first five records of the dataset\n"
   ]
  },
  {
   "cell_type": "code",
   "execution_count": 9,
   "id": "60c6d1f8",
   "metadata": {},
   "outputs": [
    {
     "data": {
      "text/html": [
       "<div>\n",
       "<style scoped>\n",
       "    .dataframe tbody tr th:only-of-type {\n",
       "        vertical-align: middle;\n",
       "    }\n",
       "\n",
       "    .dataframe tbody tr th {\n",
       "        vertical-align: top;\n",
       "    }\n",
       "\n",
       "    .dataframe thead th {\n",
       "        text-align: right;\n",
       "    }\n",
       "</style>\n",
       "<table border=\"1\" class=\"dataframe\">\n",
       "  <thead>\n",
       "    <tr style=\"text-align: right;\">\n",
       "      <th></th>\n",
       "      <th>Date</th>\n",
       "      <th>Store Location</th>\n",
       "      <th>Department</th>\n",
       "      <th>Total</th>\n",
       "      <th>Payment</th>\n",
       "    </tr>\n",
       "  </thead>\n",
       "  <tbody>\n",
       "    <tr>\n",
       "      <th>0</th>\n",
       "      <td>01-05-2019</td>\n",
       "      <td>Yangon</td>\n",
       "      <td>Health and beauty</td>\n",
       "      <td>548.9715</td>\n",
       "      <td>Ewallet</td>\n",
       "    </tr>\n",
       "    <tr>\n",
       "      <th>1</th>\n",
       "      <td>03-08-2019</td>\n",
       "      <td>Naypyitaw</td>\n",
       "      <td>Electronic accessories</td>\n",
       "      <td>80.2200</td>\n",
       "      <td>Cash</td>\n",
       "    </tr>\n",
       "    <tr>\n",
       "      <th>2</th>\n",
       "      <td>03-03-2019</td>\n",
       "      <td>Yangon</td>\n",
       "      <td>Home and lifestyle</td>\n",
       "      <td>340.5255</td>\n",
       "      <td>Credit card</td>\n",
       "    </tr>\n",
       "    <tr>\n",
       "      <th>3</th>\n",
       "      <td>1/27/2019</td>\n",
       "      <td>Yangon</td>\n",
       "      <td>Health and beauty</td>\n",
       "      <td>489.0480</td>\n",
       "      <td>Ewallet</td>\n",
       "    </tr>\n",
       "    <tr>\n",
       "      <th>4</th>\n",
       "      <td>02-08-2019</td>\n",
       "      <td>Yangon</td>\n",
       "      <td>Sports and travel</td>\n",
       "      <td>634.3785</td>\n",
       "      <td>Ewallet</td>\n",
       "    </tr>\n",
       "  </tbody>\n",
       "</table>\n",
       "</div>"
      ],
      "text/plain": [
       "         Date Store Location              Department     Total      Payment\n",
       "0  01-05-2019         Yangon       Health and beauty  548.9715      Ewallet\n",
       "1  03-08-2019      Naypyitaw  Electronic accessories   80.2200         Cash\n",
       "2  03-03-2019         Yangon      Home and lifestyle  340.5255  Credit card\n",
       "3   1/27/2019         Yangon       Health and beauty  489.0480      Ewallet\n",
       "4  02-08-2019         Yangon       Sports and travel  634.3785      Ewallet"
      ]
     },
     "execution_count": 9,
     "metadata": {},
     "output_type": "execute_result"
    }
   ],
   "source": [
    "df.head((5))"
   ]
  },
  {
   "cell_type": "markdown",
   "id": "0593653f",
   "metadata": {},
   "source": [
    "3. Find the most used payment method in each store\n"
   ]
  },
  {
   "cell_type": "code",
   "execution_count": 6,
   "id": "af1cf11b",
   "metadata": {},
   "outputs": [
    {
     "name": "stdout",
     "output_type": "stream",
     "text": [
      "  Store Location  Payment  Count\n",
      "2       Mandalay  Ewallet    113\n",
      "3      Naypyitaw     Cash    124\n",
      "8         Yangon  Ewallet    126\n"
     ]
    }
   ],
   "source": [
    "grouped = df.groupby(['Store Location', 'Payment'])\n",
    "\n",
    "payment_counts = grouped.size().reset_index(name='Count')\n",
    "\n",
    "max_count_indexes = payment_counts.groupby('Store Location')['Count'].idxmax()\n",
    "\n",
    "most_used_payment = payment_counts.loc[max_count_indexes]\n",
    "\n",
    "print(most_used_payment )\n"
   ]
  },
  {
   "cell_type": "markdown",
   "id": "a6ec8652",
   "metadata": {},
   "source": [
    "4. Find the total amount of sales for each department \n"
   ]
  },
  {
   "cell_type": "code",
   "execution_count": 69,
   "id": "4a09dd9b",
   "metadata": {},
   "outputs": [
    {
     "name": "stdout",
     "output_type": "stream",
     "text": [
      "               Department  Total Sales\n",
      "0  Electronic accessories   54337.5315\n",
      "1     Fashion accessories   54305.8950\n",
      "2      Food and beverages   56144.8440\n",
      "3       Health and beauty   49193.7390\n",
      "4      Home and lifestyle   53861.9130\n",
      "5       Sports and travel   55122.8265\n"
     ]
    }
   ],
   "source": [
    "group_by_dept = df.groupby(['Department'])['Total'].sum().reset_index(name = 'Total Sales')\n",
    "\n",
    "print(group_by_dept)\n"
   ]
  },
  {
   "cell_type": "markdown",
   "id": "a066172c",
   "metadata": {},
   "source": [
    "5. Find the average Payment for each store\n"
   ]
  },
  {
   "cell_type": "code",
   "execution_count": 70,
   "id": "936acd63",
   "metadata": {},
   "outputs": [
    {
     "name": "stdout",
     "output_type": "stream",
     "text": [
      "  Store Location  Average Sales\n",
      "0       Mandalay     319.872506\n",
      "1      Naypyitaw     337.099715\n",
      "2         Yangon     312.354031\n"
     ]
    }
   ],
   "source": [
    "group_by_store = df.groupby(['Store Location'])['Total'].mean().reset_index(name = 'Average Sales')\n",
    "\n",
    "print (group_by_store)"
   ]
  },
  {
   "cell_type": "markdown",
   "id": "1d553bc4",
   "metadata": {},
   "source": [
    "6. Find the highest-selling Department in each store"
   ]
  },
  {
   "cell_type": "code",
   "execution_count": 117,
   "id": "766c7d67",
   "metadata": {},
   "outputs": [
    {
     "name": "stdout",
     "output_type": "stream",
     "text": [
      "   Store Location          Department       Total\n",
      "5        Mandalay   Sports and travel  19988.1990\n",
      "8       Naypyitaw  Food and beverages  23766.8550\n",
      "16         Yangon  Home and lifestyle  22417.1955\n"
     ]
    }
   ],
   "source": [
    "total_sales_per_dept = df.groupby(['Store Location','Department'])['Total'].sum().reset_index()\n",
    "\n",
    "idx_max_dept = total_sales_per_dept.groupby('Store Location')['Total'].idxmax()\n",
    "\n",
    "highest_selling_dept_per_store = total_sales_per_dept.loc[idx_max_dept]\n",
    "\n",
    "print(highest_selling_dept_per_store)\n"
   ]
  },
  {
   "cell_type": "markdown",
   "id": "a56ab608",
   "metadata": {},
   "source": [
    "7. Create a bar graph comparing the total sales of each store\n"
   ]
  },
  {
   "cell_type": "code",
   "execution_count": 4,
   "id": "d8413077",
   "metadata": {},
   "outputs": [
    {
     "data": {
      "image/png": "[encoded data removed]",
      "text/plain": [
       "<Figure size 800x600 with 1 Axes>"
      ]
     },
     "metadata": {},
     "output_type": "display_data"
    }
   ],
   "source": [
    "total_sales_per_store = df.groupby('Store Location')['Total'].sum().reset_index()\n",
    "\n",
    "import matplotlib.pyplot as plt\n",
    "\n",
    "plt.figure(figsize=(8, 6))\n",
    "plt.bar(total_sales_per_store['Store Location'], total_sales_per_store['Total'], color='skyblue')\n",
    "plt.xlabel('Store Location')\n",
    "plt.ylabel('Total Sales')\n",
    "plt.title('Total Sales Comparison by Store')\n",
    "plt.show()"
   ]
  },
  {
   "cell_type": "markdown",
   "id": "ceffbb1e",
   "metadata": {},
   "source": [
    "8. Find the total sales of each department in each store\n"
   ]
  },
  {
   "cell_type": "code",
   "execution_count": 22,
   "id": "f2b06875",
   "metadata": {},
   "outputs": [
    {
     "name": "stdout",
     "output_type": "stream",
     "text": [
      "Department              Store Location\n",
      "Electronic accessories  Mandalay          17051.4435\n",
      "                        Naypyitaw         18968.9745\n",
      "                        Yangon            18317.1135\n",
      "Fashion accessories     Mandalay          16413.3165\n",
      "                        Naypyitaw         21560.0700\n",
      "                        Yangon            16332.5085\n",
      "Food and beverages      Mandalay          15214.8885\n",
      "                        Naypyitaw         23766.8550\n",
      "                        Yangon            17163.1005\n",
      "Health and beauty       Mandalay          19980.6600\n",
      "                        Naypyitaw         16615.3260\n",
      "                        Yangon            12597.7530\n",
      "Home and lifestyle      Mandalay          17549.1645\n",
      "                        Naypyitaw         13895.5530\n",
      "                        Yangon            22417.1955\n",
      "Sports and travel       Mandalay          19988.1990\n",
      "                        Naypyitaw         15761.9280\n",
      "                        Yangon            19372.6995\n",
      "Name: Total, dtype: float64\n"
     ]
    }
   ],
   "source": [
    "group_by_dept_store=df.groupby(['Department', 'Store Location'])['Total'].sum()\n",
    "\n",
    "print(group_by_dept_store)"
   ]
  },
  {
   "cell_type": "markdown",
   "id": "09079cde",
   "metadata": {},
   "source": [
    "9. Find the average mode of each payment method in each store"
   ]
  },
  {
   "cell_type": "code",
   "execution_count": 24,
   "id": "ce3cce98",
   "metadata": {},
   "outputs": [
    {
     "name": "stdout",
     "output_type": "stream",
     "text": [
      "  Store Location      Payment  Avg amount from each payment mode\n",
      "0       Mandalay         Cash                         321.267832\n",
      "1       Mandalay  Credit card                         342.613362\n",
      "2       Mandalay      Ewallet                         296.578354\n",
      "3      Naypyitaw         Cash                         347.466593\n",
      "4      Naypyitaw  Credit card                         309.463929\n",
      "5      Naypyitaw      Ewallet                         350.522491\n",
      "6         Yangon         Cash                         307.102282\n",
      "7         Yangon  Credit card                         318.218755\n",
      "8         Yangon      Ewallet                         312.098167\n"
     ]
    }
   ],
   "source": [
    "grouped = df.groupby([ 'Store Location', 'Payment',])\n",
    "payment_counts = grouped['Total'].mean().reset_index(name='Avg amount from each payment mode')\n",
    "\n",
    "\n",
    "print(payment_counts)\n"
   ]
  },
  {
   "cell_type": "markdown",
   "id": "33a51886",
   "metadata": {},
   "source": [
    "10. Find the top 10 departments based on the average sales\n"
   ]
  },
  {
   "cell_type": "code",
   "execution_count": 49,
   "id": "95030f38",
   "metadata": {
    "scrolled": true
   },
   "outputs": [
    {
     "name": "stdout",
     "output_type": "stream",
     "text": [
      "                Department Store Location  Average Sales\n",
      "9        Health and beauty       Mandalay     376.993585\n",
      "7       Food and beverages      Naypyitaw     360.103864\n",
      "12      Home and lifestyle       Mandalay     350.983290\n",
      "16       Sports and travel      Naypyitaw     350.265067\n",
      "1   Electronic accessories      Naypyitaw     344.890445\n",
      "14      Home and lifestyle         Yangon     344.879931\n",
      "4      Fashion accessories      Naypyitaw     331.693385\n",
      "17       Sports and travel         Yangon     328.350839\n",
      "15       Sports and travel       Mandalay     322.390306\n",
      "5      Fashion accessories         Yangon     320.245265\n"
     ]
    }
   ],
   "source": [
    "group_by_dept_store=df.groupby(['Department', 'Store Location'])['Total'].mean().reset_index(name='Average Sales')\n",
    "\n",
    "sorted_average_sales =group_by_dept_store.sort_values('Average Sales', ascending=False)\n",
    "\n",
    "top_10_departments = sorted_average_sales.head(10)\n",
    "\n",
    "\n",
    "print(top_10_departments)"
   ]
  },
  {
   "cell_type": "markdown",
   "id": "3f8eba16",
   "metadata": {},
   "source": [
    "11. Create a line graph comparing the average sales of the top 10 departments\n",
    "\n"
   ]
  },
  {
   "cell_type": "code",
   "execution_count": 7,
   "id": "b21ca8ea",
   "metadata": {},
   "outputs": [
    {
     "data": {
      "image/png": "[encoded data removed]",
      "text/plain": [
       "<Figure size 640x480 with 1 Axes>"
      ]
     },
     "metadata": {},
     "output_type": "display_data"
    }
   ],
   "source": [
    "df['Dept_Store'] = df['Department'] + ' - ' + df['Store Location']\n",
    "\n",
    "average_sales_per_dept_store = df.groupby('Dept_Store')['Total'].mean().reset_index()\n",
    "\n",
    "sorted_average_sales = average_sales_per_dept_store.sort_values(by='Total', ascending=False)\n",
    "\n",
    "top_10_dept_stores = sorted_average_sales.head(10)\n",
    "\n",
    "#Line graph: \n",
    "\n",
    "plt.plot(top_10_dept_stores['Dept_Store'], top_10_dept_stores['Total'], marker='o', linestyle='-', color='b')\n",
    "plt.xlabel('Department and Store Location')\n",
    "plt.ylabel('Average Sales')\n",
    "plt.title('Average Sales of Top 10 Departments')\n",
    "plt.xticks(rotation=45, ha='right')  # Rotate x-axis labels for better visibility\n",
    "plt.grid(True)\n",
    "plt.tight_layout()  # Adjust layout for better appearance\n",
    "plt.show()"
   ]
  },
  {
   "cell_type": "markdown",
   "id": "615a4aea",
   "metadata": {},
   "source": [
    "12. Create a pivot table comparing the average of each payment method in each\n",
    "department\n"
   ]
  },
  {
   "cell_type": "code",
   "execution_count": 67,
   "id": "82220909",
   "metadata": {},
   "outputs": [
    {
     "name": "stdout",
     "output_type": "stream",
     "text": [
      "Payment                       Cash  Credit card     Ewallet\n",
      "Department                                                 \n",
      "Electronic accessories  291.971577   335.391685  343.010038\n",
      "Fashion accessories     309.013895   309.554813  297.800515\n",
      "Food and beverages      337.032868   331.724434  298.192500\n",
      "Health and beauty       350.798143   319.389420  302.550170\n",
      "Home and lifestyle      364.490206   310.734900  332.653781\n",
      "Sports and travel       319.895136   336.155717  341.347417\n"
     ]
    }
   ],
   "source": [
    "pivot_table = pd.pivot_table(df, values='Total', index=['Department'], columns=['Payment'], aggfunc='mean')\n",
    "\n",
    "# Display the pivot table\n",
    "print(pivot_table)"
   ]
  },
  {
   "cell_type": "markdown",
   "id": "a30c0a6c",
   "metadata": {},
   "source": [
    "13. Create a 1-dimensional Numpy array of size 10, filled with zeros."
   ]
  },
  {
   "cell_type": "code",
   "execution_count": 12,
   "id": "806c1634",
   "metadata": {},
   "outputs": [
    {
     "name": "stdout",
     "output_type": "stream",
     "text": [
      "[0. 0. 0. 0. 0. 0. 0. 0. 0. 0.]\n"
     ]
    }
   ],
   "source": [
    "import numpy as np\n",
    "\n",
    "zeros_array = np.zeros(10)\n",
    "\n",
    "print(zeros_array)"
   ]
  },
  {
   "cell_type": "markdown",
   "id": "336c93f9",
   "metadata": {},
   "source": [
    "14. Generate an array with 10 evenly spaced values between 0 and 1.\n"
   ]
  },
  {
   "cell_type": "code",
   "execution_count": 13,
   "id": "3a4ad7b6",
   "metadata": {},
   "outputs": [
    {
     "name": "stdout",
     "output_type": "stream",
     "text": [
      "[0.  0.1 0.2 0.3 0.4 0.5 0.6 0.7 0.8 0.9 1. ]\n"
     ]
    }
   ],
   "source": [
    "evenly_spaced_array = np.arange(0, 1.1, 0.1)\n",
    "\n",
    "print(evenly_spaced_array)"
   ]
  },
  {
   "cell_type": "markdown",
   "id": "6443de70",
   "metadata": {},
   "source": [
    "15. Convert a list into a Numpy array and find its shape, size, and dimensions."
   ]
  },
  {
   "cell_type": "code",
   "execution_count": 14,
   "id": "063e99f3",
   "metadata": {},
   "outputs": [
    {
     "name": "stdout",
     "output_type": "stream",
     "text": [
      "NumPy Array:\n",
      "[[1 2 3]\n",
      " [4 5 6]\n",
      " [7 8 9]]\n",
      "\n",
      "Shape: (3, 3)\n",
      "Size: 9\n",
      "Dimensions: 2\n"
     ]
    }
   ],
   "source": [
    "my_list = [[1, 2, 3], [4, 5, 6], [7, 8, 9]]\n",
    "\n",
    "my_array = np.array(my_list)\n",
    "\n",
    "array_shape = my_array.shape\n",
    "array_size = my_array.size\n",
    "array_dimensions = my_array.ndim\n",
    "\n",
    "print(\"NumPy Array:\")\n",
    "print(my_array)\n",
    "\n",
    "print(\"\\nShape:\", array_shape)\n",
    "print(\"Size:\", array_size)\n",
    "print(\"Dimensions:\", array_dimensions)"
   ]
  },
  {
   "cell_type": "markdown",
   "id": "0b2c6cfa",
   "metadata": {},
   "source": [
    "16. Extract all the odd numbers from a given Numpy array and store them in\n",
    "another array.\n"
   ]
  },
  {
   "cell_type": "code",
   "execution_count": 15,
   "id": "40c560bc",
   "metadata": {},
   "outputs": [
    {
     "name": "stdout",
     "output_type": "stream",
     "text": [
      "Original Array: [ 1  2  3  4  5  6  7  8  9 10]\n",
      "Odd Numbers Array: [1 3 5 7 9]\n"
     ]
    }
   ],
   "source": [
    "original_array = np.array([1, 2, 3, 4, 5, 6, 7, 8, 9, 10])\n",
    "\n",
    "#extract odd numbers\n",
    "odd_numbers = original_array[original_array % 2 != 0]\n",
    "\n",
    "print(\"Original Array:\", original_array)\n",
    "print(\"Odd Numbers Array:\", odd_numbers)"
   ]
  },
  {
   "cell_type": "markdown",
   "id": "3f346c07",
   "metadata": {},
   "source": [
    "17. How to sort a NumPy array along a specific axis?"
   ]
  },
  {
   "cell_type": "code",
   "execution_count": 16,
   "id": "510ced00",
   "metadata": {},
   "outputs": [
    {
     "name": "stdout",
     "output_type": "stream",
     "text": [
      "Original Array:\n",
      "[[3 2 1]\n",
      " [6 5 4]\n",
      " [9 8 7]]\n",
      "\n",
      "Sorted along Axis 1 (columns):\n",
      "[[1 2 3]\n",
      " [4 5 6]\n",
      " [7 8 9]]\n",
      "\n",
      "Sorted along Axis 0 (rows):\n",
      "[[3 2 1]\n",
      " [6 5 4]\n",
      " [9 8 7]]\n"
     ]
    }
   ],
   "source": [
    "my_array = np.array([[3, 2, 1],\n",
    "                     [6, 5, 4],\n",
    "                     [9, 8, 7]])\n",
    "\n",
    "# Sort along axis 1 (columns)\n",
    "sorted_array_axis1 = np.sort(my_array, axis=1)\n",
    "\n",
    "# Sort along axis 0 (rows)\n",
    "sorted_array_axis0 = np.sort(my_array, axis=0)\n",
    "\n",
    "# Print the results\n",
    "print(\"Original Array:\")\n",
    "print(my_array)\n",
    "\n",
    "print(\"\\nSorted along Axis 1 (columns):\")\n",
    "print(sorted_array_axis1)\n",
    "\n",
    "print(\"\\nSorted along Axis 0 (rows):\")\n",
    "print(sorted_array_axis0)"
   ]
  },
  {
   "cell_type": "markdown",
   "id": "449730ed",
   "metadata": {},
   "source": [
    "18. How do you sort a structured NumPy array by multiple fields?\n"
   ]
  },
  {
   "cell_type": "code",
   "execution_count": 77,
   "id": "2c8d103d",
   "metadata": {},
   "outputs": [
    {
     "name": "stdout",
     "output_type": "stream",
     "text": [
      "Original Array:\n",
      "[(1, 'John', 25) (2, 'Alice', 30) (3, 'Bob', 22)]\n",
      "\n",
      "Sorted Array by 'Age' (ascending) and 'Name' (ascending):\n",
      "[(3, 'Bob', 22) (1, 'John', 25) (2, 'Alice', 30)]\n"
     ]
    }
   ],
   "source": [
    "\n",
    "# Create a structured NumPy array with multiple fields\n",
    "data = np.array([(1, 'John', 25),\n",
    "                 (2, 'Alice', 30),\n",
    "                 (3, 'Bob', 22)],\n",
    "                dtype=[('ID', int), ('Name', 'U10'), ('Age', int)])\n",
    "\n",
    "# Sort the array by 'Age' (ascending) and then by 'Name' (ascending)\n",
    "sorted_indices = np.lexsort((data['Name'], data['Age']))\n",
    "\n",
    "# Use the sorted indices to rearrange the array\n",
    "sorted_array = data[sorted_indices]\n",
    "\n",
    "# Print the results\n",
    "print(\"Original Array:\")\n",
    "print(data)\n",
    "\n",
    "print(\"\\nSorted Array by 'Age' (ascending) and 'Name' (ascending):\")\n",
    "print(sorted_array)"
   ]
  },
  {
   "cell_type": "markdown",
   "id": "01d446b1",
   "metadata": {},
   "source": [
    "19. Given a Numpy array a of shape (m, n), how would you calculate the\n",
    "row-wise mean and column-wise mean of the array?\n"
   ]
  },
  {
   "cell_type": "code",
   "execution_count": 78,
   "id": "5de947e8",
   "metadata": {},
   "outputs": [
    {
     "name": "stdout",
     "output_type": "stream",
     "text": [
      "Original Array:\n",
      "[[1 2 3]\n",
      " [4 5 6]\n",
      " [7 8 9]]\n",
      "\n",
      "Row-wise Mean:\n",
      "[2. 5. 8.]\n",
      "\n",
      "Column-wise Mean:\n",
      "[4. 5. 6.]\n"
     ]
    }
   ],
   "source": [
    "a = np.array([[1, 2, 3],\n",
    "              [4, 5, 6],\n",
    "              [7, 8, 9]])\n",
    "\n",
    "# Calculate the row-wise mean (along axis 1)\n",
    "row_mean = np.mean(a, axis=1)\n",
    "\n",
    "# Calculate the column-wise mean (along axis 0)\n",
    "column_mean = np.mean(a, axis=0)\n",
    "\n",
    "# Print the results\n",
    "print(\"Original Array:\")\n",
    "print(a)\n",
    "\n",
    "print(\"\\nRow-wise Mean:\")\n",
    "print(row_mean)\n",
    "\n",
    "print(\"\\nColumn-wise Mean:\")\n",
    "print(column_mean)"
   ]
  },
  {
   "cell_type": "markdown",
   "id": "93fb8614",
   "metadata": {},
   "source": [
    "20. Given a Numpy array a of shape (m, n), how would you find the element with\n",
    "the maximum absolute value in each row and return the indices of those\n",
    "elements?\n"
   ]
  },
  {
   "cell_type": "code",
   "execution_count": 80,
   "id": "147033d4",
   "metadata": {},
   "outputs": [
    {
     "name": "stdout",
     "output_type": "stream",
     "text": [
      "Original Array:\n",
      "[[ 1 -2  3]\n",
      " [ 4 -5  6]\n",
      " [ 7 -8  9]]\n",
      "\n",
      "Indices of Elements with Maximum Absolute Value in Each Row:\n",
      "[(0, 2), (1, 2), (2, 2)]\n"
     ]
    }
   ],
   "source": [
    "# Create a NumPy array of shape (m, n)\n",
    "a = np.array([[1, -2, 3],\n",
    "              [4, -5, 6],\n",
    "              [7, -8, 9]])\n",
    "\n",
    "# Find the indices of the element with the maximum absolute value in each row\n",
    "max_abs_indices = np.argmax(np.abs(a), axis=1)\n",
    "\n",
    "# Create an array of corresponding indices\n",
    "row_indices = np.arange(a.shape[0])\n",
    "\n",
    "# Zip the row indices and the max absolute value indices together\n",
    "result_indices = list(zip(row_indices, max_abs_indices))\n",
    "\n",
    "# Print the results\n",
    "print(\"Original Array:\")\n",
    "print(a)\n",
    "\n",
    "print(\"\\nIndices of Elements with Maximum Absolute Value in Each Row:\")\n",
    "print(result_indices)"
   ]
  },
  {
   "cell_type": "code",
   "execution_count": null,
   "id": "dfcbf2ec",
   "metadata": {},
   "outputs": [],
   "source": []
  }
 ],
 "metadata": {
  "kernelspec": {
   "display_name": "Python 3 (ipykernel)",
   "language": "python",
   "name": "python3"
  },
  "language_info": {
   "codemirror_mode": {
    "name": "ipython",
    "version": 3
   },
   "file_extension": ".py",
   "mimetype": "text/x-python",
   "name": "python",
   "nbconvert_exporter": "python",
   "pygments_lexer": "ipython3",
   "version": "3.11.5"
  }
 },
 "nbformat": 4,
 "nbformat_minor": 5
}
